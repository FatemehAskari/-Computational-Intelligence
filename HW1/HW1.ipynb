{
 "cells": [
  {
   "cell_type": "code",
   "execution_count": 1,
   "metadata": {},
   "outputs": [],
   "source": [
    "import numpy as np"
   ]
  },
  {
   "cell_type": "markdown",
   "metadata": {},
   "source": [
    "# Q1"
   ]
  },
  {
   "cell_type": "code",
   "execution_count": 6,
   "metadata": {},
   "outputs": [],
   "source": [
    "def element_wise_comparisons(array1, array2):\n",
    "    \"\"\"\n",
    "    Perform element-wise comparisons between two NumPy arrays.\n",
    "\n",
    "    Parameters:\n",
    "    - array1 (numpy.ndarray): First input NumPy array.\n",
    "    - array2 (numpy.ndarray): Second input NumPy array.\n",
    "\n",
    "    Returns:\n",
    "    - tuple: A tuple of NumPy arrays containing the following element-wise comparison results:\n",
    "        - greater_result (numpy.ndarray): Element-wise greater than comparison.\n",
    "        - greater_equal_result (numpy.ndarray): Element-wise greater than or equal to comparison.\n",
    "        - less_result (numpy.ndarray): Element-wise less than comparison.\n",
    "        - less_equal_result (numpy.ndarray): Element-wise less than or equal to comparison.\n",
    "    \"\"\"\n",
    "    \n",
    "    # ------------\n",
    "    # FILL THIS IN\n",
    "    # ------------\n",
    "    greater_result = np.greater(array1, array2)\n",
    "    greater_equal_result = np.greater_equal(array1, array2)\n",
    "    less_result = np.less(array1, array2)\n",
    "    less_equal_result = np.less_equal(array1, array2)\n",
    "\n",
    "    return greater_result, greater_equal_result, less_result, less_equal_result"
   ]
  },
  {
   "cell_type": "code",
   "execution_count": 7,
   "metadata": {},
   "outputs": [
    {
     "name": "stdout",
     "output_type": "stream",
     "text": [
      "Greater than:\n",
      "[[False False]\n",
      " [ True  True]]\n",
      "\n",
      "Greater than or equal to:\n",
      "[[ True  True]\n",
      " [ True  True]]\n",
      "\n",
      "Less than:\n",
      "[[False False]\n",
      " [False False]]\n",
      "\n",
      "Less than or equal to:\n",
      "[[ True  True]\n",
      " [False False]]\n"
     ]
    }
   ],
   "source": [
    "array1 = np.array([[1, 2], [3, 4]])\n",
    "array2 = np.array([[1, 2], [2, 3]])\n",
    "\n",
    "greater, greater_equal, less, less_equal = element_wise_comparisons(array1, array2)\n",
    "\n",
    "print(\"Greater than:\")\n",
    "print(greater)\n",
    "print(\"\\nGreater than or equal to:\")\n",
    "print(greater_equal)\n",
    "print(\"\\nLess than:\")\n",
    "print(less)\n",
    "print(\"\\nLess than or equal to:\")\n",
    "print(less_equal)"
   ]
  },
  {
   "cell_type": "markdown",
   "metadata": {},
   "source": [
    "# Q2"
   ]
  },
  {
   "cell_type": "code",
   "execution_count": 8,
   "metadata": {},
   "outputs": [],
   "source": [
    "def array_multiply(array1, array2, method=\"element-wise\"):\n",
    "    \"\"\"\n",
    "    Perform multiplication between two NumPy arrays using the specified method.\n",
    "\n",
    "    Parameters:\n",
    "    - array1 (numpy.ndarray): First input NumPy array.\n",
    "    - array2 (numpy.ndarray): Second input NumPy array.\n",
    "    - method (str, optional): The multiplication method to use. Defaults to \"element-wise\".\n",
    "\n",
    "    Returns:\n",
    "    - numpy.ndarray: The result of the multiplication operation based on the chosen method.\n",
    "    \"\"\"\n",
    "    # ------------\n",
    "    # FILL THIS IN\n",
    "    # ------------\n",
    "    if method==\"element-wise\":\n",
    "        result=np.multiply(array1, array2)\n",
    "    elif method==\"matrix-multiply\":\n",
    "        result=np.matmul(array1, array2)    \n",
    "    \n",
    "    return result"
   ]
  },
  {
   "cell_type": "code",
   "execution_count": 9,
   "metadata": {},
   "outputs": [
    {
     "name": "stdout",
     "output_type": "stream",
     "text": [
      "Element-wise multiplication:\n",
      "[[2 0]\n",
      " [3 8]]\n",
      "\n",
      "Matrix multiplication:\n",
      "[[ 4  4]\n",
      " [10  8]]\n"
     ]
    }
   ],
   "source": [
    "array1 = np.array([[1, 2], [3, 4]])\n",
    "array2 = np.array([[2, 0], [1, 2]])\n",
    "\n",
    "# Perform element-wise multiplication\n",
    "element_wise_result = array_multiply(array1, array2, method=\"element-wise\")\n",
    "print(\"Element-wise multiplication:\")\n",
    "print(element_wise_result)\n",
    "\n",
    "# Perform matrix multiplication\n",
    "matrix_multiply_result = array_multiply(array1, array2, method=\"matrix-multiply\")\n",
    "print(\"\\nMatrix multiplication:\")\n",
    "print(matrix_multiply_result)"
   ]
  },
  {
   "cell_type": "markdown",
   "metadata": {},
   "source": [
    "# Q3"
   ]
  },
  {
   "cell_type": "code",
   "execution_count": 2,
   "metadata": {},
   "outputs": [],
   "source": [
    "def broadcast_add(p, q, method=\"row-wise\"):\n",
    "    \"\"\"\n",
    "    Perform addition between two NumPy arrays using broadcasting and the specified method.\n",
    "\n",
    "    Parameters:\n",
    "    - p (numpy.ndarray): First input NumPy array.\n",
    "    - q (numpy.ndarray): Second input NumPy array.\n",
    "    - method (str, optional): The addition method to use. Defaults to \"row-wise\".\n",
    "        - \"row-wise\": Perform row-wise addition, broadcasting q to match the number of rows in p.\n",
    "        - \"column-wise\": Perform column-wise addition, adding q to each column of p.\n",
    "\n",
    "    Returns:\n",
    "    - numpy.ndarray: The result of the addition operation based on the chosen method.\n",
    "    \n",
    "    Raises:\n",
    "    - ValueError: If an invalid method is provided or if the shapes are incompatible for the chosen method.\n",
    "    \"\"\"\n",
    "    # ------------\n",
    "    # FILL THIS IN\n",
    "    # ------------\n",
    "    if method==\"row-wise\":\n",
    "        result=p+q[:,np.newaxis]\n",
    "    elif method==\"column-wise\":\n",
    "        result=p+q    \n",
    "    \n",
    "    return result"
   ]
  },
  {
   "cell_type": "code",
   "execution_count": 3,
   "metadata": {},
   "outputs": [
    {
     "name": "stdout",
     "output_type": "stream",
     "text": [
      "Row-wise addition:\n",
      "[[11 12 13]\n",
      " [24 25 26]\n",
      " [37 38 39]]\n",
      "\n",
      "Column-wise addition:\n",
      "[[11 22 33]\n",
      " [14 25 36]\n",
      " [17 28 39]]\n"
     ]
    }
   ],
   "source": [
    "# Example usage with different-shaped arrays\n",
    "p = np.array([[1, 2, 3], [4, 5, 6], [7, 8, 9]])\n",
    "q = np.array([10, 20, 30])\n",
    "\n",
    "# Add q row-wise to p\n",
    "row_wise_result = broadcast_add(p, q, method=\"row-wise\")\n",
    "print(\"Row-wise addition:\")\n",
    "print(row_wise_result)\n",
    "\n",
    "# Add q column-wise to p\n",
    "column_wise_result = broadcast_add(p, q, method=\"column-wise\")\n",
    "print(\"\\nColumn-wise addition:\")\n",
    "print(column_wise_result)"
   ]
  },
  {
   "cell_type": "markdown",
   "metadata": {},
   "source": [
    "# Q4"
   ]
  },
  {
   "cell_type": "code",
   "execution_count": 4,
   "metadata": {},
   "outputs": [
    {
     "name": "stdout",
     "output_type": "stream",
     "text": [
      "Original Array:\n",
      "[[ 2  6  7  1]\n",
      " [10  4  3  7]\n",
      " [ 2  4  9  8]\n",
      " [ 6  5  6  2]]\n",
      "After normalization:\n",
      "[[0.11111111 0.55555556 0.66666667 0.        ]\n",
      " [1.         0.33333333 0.22222222 0.66666667]\n",
      " [0.11111111 0.33333333 0.88888889 0.77777778]\n",
      " [0.55555556 0.44444444 0.55555556 0.11111111]]\n"
     ]
    }
   ],
   "source": [
    "# Initialize the random matrix\n",
    "# x = \n",
    "\n",
    "x=np.random.randint(1,11,size=(4,4))\n",
    "\n",
    "print(\"Original Array:\")\n",
    "print(x)\n",
    "\n",
    "# Do the normalization\n",
    "x=(x-np.min(x))/(np.max(x)-np.min(x))\n",
    "\n",
    "print(\"After normalization:\")\n",
    "print(x)"
   ]
  },
  {
   "cell_type": "markdown",
   "metadata": {},
   "source": [
    "# Q5"
   ]
  },
  {
   "cell_type": "code",
   "execution_count": 27,
   "metadata": {},
   "outputs": [
    {
     "name": "stdout",
     "output_type": "stream",
     "text": [
      "Part1\n",
      "0           NaN\n",
      "1      0.002145\n",
      "2     -0.013911\n",
      "3     -0.010884\n",
      "4      0.024109\n",
      "         ...   \n",
      "359   -0.006720\n",
      "360    0.015886\n",
      "361   -0.008170\n",
      "362   -0.006454\n",
      "363    0.011010\n",
      "Name: Closing Price, Length: 364, dtype: float64\n",
      "\n",
      "\n",
      "Part2\n",
      "-0.0005548260008486608\n",
      "\n",
      "\n",
      "Part3\n",
      "0.009455978850317194\n",
      "\n",
      "\n"
     ]
    },
    {
     "data": {
      "image/png": "[encoded data removed]",
      "text/plain": [
       "<Figure size 640x480 with 1 Axes>"
      ]
     },
     "metadata": {},
     "output_type": "display_data"
    },
    {
     "name": "stdout",
     "output_type": "stream",
     "text": [
      "\n",
      "\n"
     ]
    },
    {
     "data": {
      "image/png": "[encoded data removed]",
      "text/plain": [
       "<Figure size 640x480 with 1 Axes>"
      ]
     },
     "metadata": {},
     "output_type": "display_data"
    },
    {
     "name": "stdout",
     "output_type": "stream",
     "text": [
      "\n",
      "\n",
      "Day with the maximum return: 4/16/2023 Return value: 0.028963574613605738\n",
      "Day with the minimum return: 11/9/2023 Return value: -0.02878633838810639\n",
      "\n",
      "\n",
      "Date with the maximum price: 11/29/2023 Price value: 124.6180108\n",
      "Date with the minimum price: 4/16/2023 Price value: 82.96821012\n"
     ]
    }
   ],
   "source": [
    "import matplotlib.pyplot as plt\n",
    "import pandas as pd\n",
    "\n",
    "# You should write your code here and print or plot the required data asked in homework documentation\n",
    "\n",
    "# part 1\n",
    "data = pd.read_csv('data.csv')\n",
    "returns = (data['Closing Price'].shift(1) - data['Closing Price']) / data['Closing Price'].shift(1)\n",
    "print(\"Part1\")\n",
    "print(returns)\n",
    "print(\"\\n\")\n",
    "\n",
    "# part 2\n",
    "mean_returns = returns.mean()\n",
    "print(\"Part2\")\n",
    "print(mean_returns)\n",
    "print(\"\\n\")\n",
    "\n",
    "\n",
    "# part3\n",
    "print(\"Part3\")\n",
    "std_returns = returns.std()\n",
    "print(std_returns)\n",
    "print(\"\\n\")\n",
    "\n",
    "# part4\n",
    "closing_price=data['Closing Price']\n",
    "plt.plot(closing_price)\n",
    "plt.xlabel('Time')\n",
    "plt.ylabel('Closing Price')\n",
    "plt.title('Daily Closing Price')\n",
    "plt.show()\n",
    "print(\"\\n\")\n",
    "\n",
    "# part5\n",
    "plt.plot(returns)\n",
    "plt.xlabel('Time')\n",
    "plt.ylabel('Daily Returns')\n",
    "plt.title('Daily Returns Over Time')\n",
    "plt.show()\n",
    "print(\"\\n\")\n",
    "\n",
    "# part6\n",
    "# Identify the day with the maximum return\n",
    "max_return_day = returns.idxmax()\n",
    "max_return_value = returns.loc[max_return_day]\n",
    "\n",
    "# Identify the day with the minimum return\n",
    "min_return_day = returns.idxmin()\n",
    "min_return_value = returns.loc[min_return_day]\n",
    "\n",
    "print(\"Day with the maximum return:\",data['Date'][max_return_day], \"Return value:\", max_return_value)\n",
    "print(\"Day with the minimum return:\",data['Date'][min_return_day], \"Return value:\", min_return_value)\n",
    "print('\\n')\n",
    "\n",
    "# part7\n",
    "max_price_row = data['Closing Price'].idxmax()\n",
    "min_price_row = data['Closing Price'].idxmin()\n",
    "\n",
    "max_price_date = data.loc[max_price_row, 'Date']\n",
    "max_price_value = data.loc[max_price_row, 'Closing Price']\n",
    "\n",
    "min_price_date = data.loc[min_price_row, 'Date']\n",
    "min_price_value = data.loc[min_price_row, 'Closing Price']\n",
    "\n",
    "print(\"Date with the maximum price:\", max_price_date, \"Price value:\", max_price_value)\n",
    "print(\"Date with the minimum price:\", min_price_date, \"Price value:\", min_price_value)"
   ]
  },
  {
   "cell_type": "markdown",
   "metadata": {},
   "source": [
    "# Q6"
   ]
  },
  {
   "cell_type": "code",
   "execution_count": 45,
   "metadata": {},
   "outputs": [],
   "source": [
    "def for_loop_feed_forward(X, w):\n",
    "    \"\"\"\n",
    "    Perform a feed-forward operation using a for loop.\n",
    "\n",
    "    Parameters:\n",
    "    - X (numpy.ndarray): Input data matrix of shape (num_samples, num_features).\n",
    "    - w (numpy.ndarray): Weight matrix of shape (num_features, 1).\n",
    "\n",
    "    Returns:\n",
    "    - numpy.ndarray: Output matrix of shape (num_samples, 1).\n",
    "    \"\"\"\n",
    "    # ------------\n",
    "    # FILL THIS IN\n",
    "    # ------------\n",
    "    num_samples = X.shape[0]\n",
    "    outputs = np.zeros((num_samples, 1))\n",
    "\n",
    "    for i in range(num_samples):\n",
    "        for j in range(X.shape[1]):\n",
    "           outputs[i] += X[i][j] * w[j]\n",
    "    \n",
    "    return outputs\n",
    "\n",
    "def vectorized_feed_forward(X, w):\n",
    "    \"\"\"\n",
    "    Perform a feed-forward operation using vectorization.\n",
    "\n",
    "    Parameters:\n",
    "    - X (numpy.ndarray): Input data matrix of shape (num_samples, num_features).\n",
    "    - w (numpy.ndarray): Weight matrix of shape (num_features, 1).\n",
    "\n",
    "    Returns:\n",
    "    - numpy.ndarray: Output matrix of shape (num_samples, 1).\n",
    "    \"\"\"\n",
    "    # ------------\n",
    "    # FILL THIS IN\n",
    "    # ------------\n",
    "    outputs=np.dot(X,w)\n",
    "    return outputs"
   ]
  },
  {
   "cell_type": "code",
   "execution_count": 52,
   "metadata": {},
   "outputs": [
    {
     "name": "stdout",
     "output_type": "stream",
     "text": [
      "Time spent on calculating the outputs using for loops: \n",
      "3.2260282039642334\n",
      "Time spent on calculating the outputs using vectorization: \n",
      "0.0010008811950683594\n"
     ]
    }
   ],
   "source": [
    "import time\n",
    "\n",
    "# generate random samples\n",
    "\n",
    "# X = \n",
    "# w = \n",
    "\n",
    "X=np.random.randint(1,10,(1000,500))\n",
    "w=np.random.randint(1,10,(500,1))\n",
    "    \n",
    "start_time = time.time()\n",
    "outputs = for_loop_feed_forward(X, w)\n",
    "\n",
    "print(\"Time spent on calculating the outputs using for loops: \")\n",
    "print(time.time() - start_time)\n",
    "\n",
    "start_time = time.time()\n",
    "outputs1 = vectorized_feed_forward(X, w)\n",
    "\n",
    "print(\"Time spent on calculating the outputs using vectorization: \")\n",
    "print(time.time() - start_time)\n"
   ]
  },
  {
   "cell_type": "markdown",
   "metadata": {},
   "source": [
    "# Q7"
   ]
  },
  {
   "cell_type": "code",
   "execution_count": 53,
   "metadata": {},
   "outputs": [],
   "source": [
    "def replace_elements_above_threshold(array, threshold):\n",
    "    \"\"\"\n",
    "    Replace elements in a NumPy array that are higher than the given threshold with a specified value.\n",
    "\n",
    "    Parameters:\n",
    "    - array (numpy.ndarray): Input NumPy array.\n",
    "    - threshold (float): Threshold value to compare elements with.\n",
    "\n",
    "    Returns:\n",
    "    - numpy.ndarray: NumPy array with elements replaced above the threshold.\n",
    "    \"\"\"\n",
    "    # ------------\n",
    "    # FILL THIS IN\n",
    "    # ------------\n",
    "    low_value=0\n",
    "    high_value=1\n",
    "    modified_arr=np.where(array>threshold,high_value,low_value)\n",
    "    return modified_arr"
   ]
  },
  {
   "cell_type": "code",
   "execution_count": 54,
   "metadata": {},
   "outputs": [
    {
     "name": "stdout",
     "output_type": "stream",
     "text": [
      "[[0 0 0]\n",
      " [0 0 1]\n",
      " [1 1 1]]\n"
     ]
    }
   ],
   "source": [
    "input_array = np.array([[1, 2, 3], [4, 5, 6], [7, 8, 9]])\n",
    "threshold_value = 5\n",
    "result_array = replace_elements_above_threshold(input_array, threshold_value)\n",
    "print(result_array)"
   ]
  },
  {
   "cell_type": "markdown",
   "metadata": {},
   "source": [
    "# Q8"
   ]
  },
  {
   "cell_type": "code",
   "execution_count": 110,
   "metadata": {},
   "outputs": [],
   "source": [
    "class Matrix:\n",
    "    def __init__(self, matrix):\n",
    "        \"\"\"\n",
    "        Initialize a Matrix object with a given list of lists.\n",
    "\n",
    "        Parameters:\n",
    "        - matrix (list of lists): Input list of lists representing the matrix.\n",
    "        \"\"\"\n",
    "        # ------------\n",
    "        # FILL THIS IN\n",
    "        # ------------\n",
    "        self.matrix=matrix\n",
    "    def is_equal(self, second_matrix):\n",
    "        \"\"\"\n",
    "        Check if this Matrix object is equal to another Matrix object.\n",
    "\n",
    "        Parameters:\n",
    "        - second_matrix (Matrix): Another Matrix object for comparison.\n",
    "\n",
    "        Returns:\n",
    "        - bool: True if the matrices are equal, False otherwise.\n",
    "        \"\"\"\n",
    "        # ------------\n",
    "        # FILL THIS IN\n",
    "        # ------------\n",
    "        if len(self.matrix)!=len(second_matrix.matrix) or len(self.matrix[0])!=len(second_matrix.matrix[0]):\n",
    "            return False\n",
    "        for i in range(len(self.matrix)):\n",
    "            for j in range(len(self.matrix[0])):\n",
    "                if self.matrix[i][j]!=second_matrix.matrix[i][j]:\n",
    "                    return False\n",
    "        return True        \n",
    "\n",
    "    def is_higher_elementwise(self, second_matrix):\n",
    "        \"\"\"\n",
    "        Check if this Matrix object has higher values element-wise compared to another Matrix object.\n",
    "\n",
    "        Parameters:\n",
    "        - second_matrix (Matrix): Another Matrix object for comparison.\n",
    "\n",
    "        Returns:\n",
    "        - Matrix: Matrix same shape of the input.\n",
    "        \"\"\"\n",
    "        # ------------\n",
    "        # FILL THIS IN\n",
    "        # ------------\n",
    "        result=[]      \n",
    "        for i in range(len(self.matrix)):\n",
    "            row=[]\n",
    "            for j in range(len(self.matrix[0])):\n",
    "                if self.matrix[i][j]>second_matrix.matrix[i][j]:\n",
    "                    row.append(True)\n",
    "                else:\n",
    "                    row.append(False)\n",
    "            result.append(row)  \n",
    "        return result              \n",
    "    \n",
    "    def is_subset(self, second_matrix):\n",
    "        \"\"\"\n",
    "        Check if this Matrix object is a subset of another Matrix object.\n",
    "\n",
    "        Parameters:\n",
    "        - second_matrix (Matrix): Another Matrix object for comparison.\n",
    "\n",
    "        Returns:\n",
    "        - bool: True if this matrix is a subset of 'second_matrix', False otherwise.\n",
    "        \"\"\"\n",
    "        # ------------\n",
    "        # FILL THIS IN\n",
    "        # ------------\n",
    "        if len(self.matrix) > len(second_matrix.matrix) or len(self.matrix[0]) > len(second_matrix.matrix[0]):\n",
    "            return False\n",
    "        \n",
    "        for i in range(len(second_matrix.matrix)-len(self.matrix)+1):\n",
    "            for j in range(len(second_matrix.matrix[0])-len(self.matrix[0])+1):\n",
    "                # print(i,i+len(self.matrix),\" \",j,j+len(self.matrix[0]))\n",
    "                submatrix = [row[i:i+len(self.matrix)] for row in second_matrix.matrix[j:j+len(self.matrix[0])]]\n",
    "                # print(submatrix)\n",
    "                sample=Matrix(submatrix)\n",
    "                # print('\\n')\n",
    "                if self.is_equal(sample):\n",
    "                    return True\n",
    "        return False        \n",
    "\n",
    "    def dot_product(self, second_matrix):\n",
    "        \"\"\"\n",
    "        Calculate the dot product between this Matrix object and another Matrix object.\n",
    "\n",
    "        Parameters:\n",
    "        - second_matrix (Matrix): Another Matrix object for the dot product.\n",
    "\n",
    "        Returns:\n",
    "        - Matrix: The result of the dot product as a numpy.ndarray.\n",
    "        \"\"\"\n",
    "        # ------------\n",
    "        # FILL THIS IN\n",
    "        # ------------\n",
    "        result = []\n",
    "        for i in range(len(self.matrix)):\n",
    "            row = []\n",
    "            for j in range(len(second_matrix.matrix[0])):\n",
    "                element = 0\n",
    "                for k in range(len(self.matrix[0])):\n",
    "                    element += self.matrix[i][k] * second_matrix.matrix[k][j]\n",
    "                row.append(element)\n",
    "            result.append(row)\n",
    "\n",
    "        return Matrix(result)"
   ]
  },
  {
   "cell_type": "code",
   "execution_count": 91,
   "metadata": {},
   "outputs": [
    {
     "name": "stdout",
     "output_type": "stream",
     "text": [
      "False\n"
     ]
    }
   ],
   "source": [
    "matrix1 = Matrix([[1, 2, 3], [4, 5, 6], [7, 8, 9]])\n",
    "\n",
    "matrix2 = Matrix([[0, 0, 0], [4, 5, 6], [7, 8, 9]])\n",
    "\n",
    "# test equality of matrices here and show the result #\n",
    "print(matrix1.is_equal(matrix2))"
   ]
  },
  {
   "cell_type": "code",
   "execution_count": 92,
   "metadata": {},
   "outputs": [
    {
     "name": "stdout",
     "output_type": "stream",
     "text": [
      "[[True, True, True], [False, False, False], [False, False, False]]\n",
      "[[True, True, True], [False, False, False], [True, False, False]]\n"
     ]
    }
   ],
   "source": [
    "matrix3 = Matrix([[0, 0, 0], [10, 20, 30], [-1, 8, 10]])\n",
    "\n",
    "# test proportion of matrices here and show the result #\n",
    "print(matrix1.is_higher_elementwise(matrix2))\n",
    "print(matrix1.is_higher_elementwise(matrix3))\n"
   ]
  },
  {
   "cell_type": "code",
   "execution_count": 108,
   "metadata": {},
   "outputs": [
    {
     "name": "stdout",
     "output_type": "stream",
     "text": [
      "True\n",
      "True\n",
      "False\n",
      "True\n",
      "False\n"
     ]
    }
   ],
   "source": [
    "matrix4 = Matrix([[5, 6], [8, 9]])\n",
    "matrix5 = Matrix([[1, 2], [4, 5]])\n",
    "matrix6 = Matrix([[1, 2], [3, 4]])\n",
    "matrix7 = Matrix([[5, 6], [8, 9]])\n",
    "\n",
    "# test subset of matrices here and show the result #\n",
    "print(matrix4.is_subset(matrix1))\n",
    "print(matrix5.is_subset(matrix1))\n",
    "print(matrix6.is_subset(matrix1))\n",
    "print(matrix7.is_subset(matrix1))\n",
    "print(matrix5.is_subset(matrix2))"
   ]
  },
  {
   "cell_type": "code",
   "execution_count": 111,
   "metadata": {},
   "outputs": [
    {
     "name": "stdout",
     "output_type": "stream",
     "text": [
      "[[11, 7], [14, 18], [7, 19]]\n"
     ]
    }
   ],
   "source": [
    "matrix7 = Matrix([[3, 1], [2, 4], [-1, 5]])\n",
    "matrix8 = Matrix([[3, 1], [2, 4]])\n",
    "\n",
    "# test product of matrices here and show the result #\n",
    "print(matrix7.dot_product(matrix8).matrix)"
   ]
  }
 ],
 "metadata": {
  "kernelspec": {
   "display_name": "Python 3",
   "language": "python",
   "name": "python3"
  },
  "language_info": {
   "codemirror_mode": {
    "name": "ipython",
    "version": 3
   },
   "file_extension": ".py",
   "mimetype": "text/x-python",
   "name": "python",
   "nbconvert_exporter": "python",
   "pygments_lexer": "ipython3",
   "version": "3.11.2"
  },
  "orig_nbformat": 4
 },
 "nbformat": 4,
 "nbformat_minor": 2
}
