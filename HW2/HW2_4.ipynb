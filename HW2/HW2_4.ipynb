{
  "cells": [
    {
      "cell_type": "markdown",
      "metadata": {
        "id": "mqg4KSj_8Nz1"
      },
      "source": [
        "# In this notebook, we run an MLP model on dataset hoda and examine the results in terms of underfitting, fitting and overfitting."
      ]
    },
    {
      "cell_type": "markdown",
      "metadata": {
        "id": "IVk_5eoO76sj"
      },
      "source": [
        "## Download dataset"
      ]
    },
    {
      "cell_type": "code",
      "execution_count": 1,
      "metadata": {
        "colab": {
          "base_uri": "https://localhost:8080/"
        },
        "id": "TjoQGt01Ujx1",
        "outputId": "cc38f015-8bc9-42be-f517-f03bb30fae12"
      },
      "outputs": [
        {
          "output_type": "stream",
          "name": "stdout",
          "text": [
            "Downloading...\n",
            "From: https://drive.google.com/uc?id=1QJrQsEYOfPBn1LoIeYMZ2HFBRC0AY-6F\n",
            "To: /content/dataset.py\n",
            "100% 909/909 [00:00<00:00, 2.75MB/s]\n",
            "Downloading...\n",
            "From: https://drive.google.com/uc?id=1zStcaVl_34RrYIfVObuM4xzB6s8xwvBi\n",
            "To: /content/Data_hoda_full.mat\n",
            "100% 3.99M/3.99M [00:00<00:00, 120MB/s]\n"
          ]
        }
      ],
      "source": [
        "!gdown --fuzzy https://drive.google.com/file/d/1QJrQsEYOfPBn1LoIeYMZ2HFBRC0AY-6F/view?usp=sharing\n",
        "!gdown --fuzzy https://drive.google.com/file/d/1zStcaVl_34RrYIfVObuM4xzB6s8xwvBi/view?usp=sharing"
      ]
    },
    {
      "cell_type": "markdown",
      "metadata": {
        "id": "ruebTHNSBqRD"
      },
      "source": [
        "## Importing libraries"
      ]
    },
    {
      "cell_type": "code",
      "execution_count": 2,
      "metadata": {
        "id": "WhoXKRptiRDe"
      },
      "outputs": [],
      "source": [
        "import keras\n",
        "import numpy as np\n",
        "import matplotlib.pyplot as plt\n",
        "\n",
        "from keras.models import Sequential\n",
        "from keras.layers import Dense,  Activation\n",
        "from dataset import load_hoda"
      ]
    },
    {
      "cell_type": "markdown",
      "metadata": {
        "id": "ku75DKlg_f9y"
      },
      "source": [
        "# Load dataset"
      ]
    },
    {
      "cell_type": "code",
      "execution_count": 3,
      "metadata": {
        "id": "4D7VhBCKiVWl"
      },
      "outputs": [],
      "source": [
        "x_train_original, y_train_original, x_test_original, y_test_original = load_hoda()"
      ]
    },
    {
      "cell_type": "markdown",
      "metadata": {
        "id": "Wruhn4AmB5zC"
      },
      "source": [
        "### Converting x_train and x_test to ndarray array format and converting y_train and y_test to one-hot-encoding:\n",
        "####First, we have defined a simple function that prints the dimensions, data type and information of the loaded dataset. We will print this information before and after data preprocessing to notice the changes!"
      ]
    },
    {
      "cell_type": "code",
      "execution_count": 4,
      "metadata": {
        "id": "nbSZTm93iVb9"
      },
      "outputs": [],
      "source": [
        "# Preprocess input data for Keras.\n",
        "x_train = np.array(x_train_original)\n",
        "y_train = keras.utils.to_categorical(y_train_original, num_classes=10)\n",
        "x_test = np.array(x_test_original)\n",
        "y_test = keras.utils.to_categorical(y_test_original, num_classes=10)"
      ]
    },
    {
      "cell_type": "code",
      "execution_count": 5,
      "metadata": {
        "id": "u5Gvz63iiVZV"
      },
      "outputs": [],
      "source": [
        "def print_data_info(x_train, y_train, x_test, y_test):\n",
        "    #Check data Type\n",
        "    print (\"\\ttype(x_train): {}\".format(type(x_train)))\n",
        "    print (\"\\ttype(y_train): {}\".format(type(y_train)))\n",
        "\n",
        "    #check data Shape\n",
        "    print (\"\\tx_train.shape: {}\".format(np.shape(x_train)))\n",
        "    print (\"\\ty_train.shape: {}\".format(np.shape(y_train)))\n",
        "    print (\"\\tx_test.shape: {}\".format(np.shape(x_test)))\n",
        "    print (\"\\ty_test.shape: {}\".format(np.shape(y_test)))\n",
        "\n",
        "    #sample data\n",
        "    print (\"\\ty_train[0]: {}\".format(y_train[0]))"
      ]
    },
    {
      "cell_type": "code",
      "execution_count": 6,
      "metadata": {
        "colab": {
          "base_uri": "https://localhost:8080/"
        },
        "id": "0C5eJsmeiVe2",
        "outputId": "0e80a8da-ea54-498f-da77-03f958da278d"
      },
      "outputs": [
        {
          "output_type": "stream",
          "name": "stdout",
          "text": [
            "Before Preprocessing:\n",
            "\ttype(x_train): <class 'numpy.ndarray'>\n",
            "\ttype(y_train): <class 'numpy.ndarray'>\n",
            "\tx_train.shape: (1000, 25)\n",
            "\ty_train.shape: (1000,)\n",
            "\tx_test.shape: (200, 25)\n",
            "\ty_test.shape: (200,)\n",
            "\ty_train[0]: 6\n",
            "After Preprocessing:\n",
            "\ttype(x_train): <class 'numpy.ndarray'>\n",
            "\ttype(y_train): <class 'numpy.ndarray'>\n",
            "\tx_train.shape: (1000, 25)\n",
            "\ty_train.shape: (1000, 10)\n",
            "\tx_test.shape: (200, 25)\n",
            "\ty_test.shape: (200, 10)\n",
            "\ty_train[0]: [0. 0. 0. 0. 0. 0. 1. 0. 0. 0.]\n"
          ]
        }
      ],
      "source": [
        "print(\"Before Preprocessing:\")\n",
        "print_data_info(x_train_original, y_train_original, x_test_original, y_test_original)\n",
        "print(\"After Preprocessing:\")\n",
        "print_data_info(x_train, y_train, x_test, y_test)"
      ]
    },
    {
      "cell_type": "code",
      "execution_count": 7,
      "metadata": {
        "id": "ignnQ8cqidv_"
      },
      "outputs": [],
      "source": [
        "x_train = x_train.astype('float32')\n",
        "x_test = x_test.astype('float32')\n",
        "x_train /= 255\n",
        "x_test /= 255"
      ]
    },
    {
      "cell_type": "code",
      "execution_count": 8,
      "metadata": {
        "id": "cEQisVlqidyt"
      },
      "outputs": [],
      "source": [
        "# In this Create the model, input dim=25 and output dim = 10\n",
        "\n",
        "##################################\n",
        "# you code here\n",
        "##################################\n",
        "# model = ...\n",
        "model=Sequential()\n",
        "model.add(Dense(64, activation='relu', input_dim=25))\n",
        "model.add(Dense(10, activation='softmax'))"
      ]
    },
    {
      "cell_type": "code",
      "execution_count": 9,
      "metadata": {
        "id": "gk4rIwjbid3W",
        "colab": {
          "base_uri": "https://localhost:8080/"
        },
        "outputId": "5af5f364-e785-42cf-be6c-8012544ab1a2"
      },
      "outputs": [
        {
          "output_type": "stream",
          "name": "stdout",
          "text": [
            "Model: \"sequential\"\n",
            "_________________________________________________________________\n",
            " Layer (type)                Output Shape              Param #   \n",
            "=================================================================\n",
            " dense (Dense)               (None, 64)                1664      \n",
            "                                                                 \n",
            " dense_1 (Dense)             (None, 10)                650       \n",
            "                                                                 \n",
            "=================================================================\n",
            "Total params: 2314 (9.04 KB)\n",
            "Trainable params: 2314 (9.04 KB)\n",
            "Non-trainable params: 0 (0.00 Byte)\n",
            "_________________________________________________________________\n"
          ]
        }
      ],
      "source": [
        "model.summary()"
      ]
    },
    {
      "cell_type": "markdown",
      "metadata": {
        "id": "XVBSerPdCxnL"
      },
      "source": [
        "## Compile model"
      ]
    },
    {
      "cell_type": "code",
      "execution_count": 10,
      "metadata": {
        "id": "ZJVfanv2id52"
      },
      "outputs": [],
      "source": [
        "# In this cell compile mode, set loss function and optimizer and get metrics accuracy\n",
        "\n",
        "##################################\n",
        "# you code here\n",
        "##################################\n",
        "model.compile(loss='categorical_crossentropy', optimizer='adam', metrics=['accuracy'])"
      ]
    },
    {
      "cell_type": "markdown",
      "metadata": {
        "id": "Uz92ZcWOJFFU"
      },
      "source": [
        "## Fit model"
      ]
    },
    {
      "cell_type": "code",
      "execution_count": 11,
      "metadata": {
        "id": "ZaKtROcxinbV",
        "colab": {
          "base_uri": "https://localhost:8080/"
        },
        "outputId": "54b43256-0a52-48c3-cd43-cab529b905df"
      },
      "outputs": [
        {
          "output_type": "stream",
          "name": "stdout",
          "text": [
            "Epoch 1/100\n",
            "16/16 [==============================] - 1s 21ms/step - loss: 2.3788 - accuracy: 0.0910 - val_loss: 2.2110 - val_accuracy: 0.1650\n",
            "Epoch 2/100\n",
            "16/16 [==============================] - 0s 6ms/step - loss: 2.1159 - accuracy: 0.3360 - val_loss: 2.0109 - val_accuracy: 0.4800\n",
            "Epoch 3/100\n",
            "16/16 [==============================] - 0s 6ms/step - loss: 1.8975 - accuracy: 0.5700 - val_loss: 1.8103 - val_accuracy: 0.6300\n",
            "Epoch 4/100\n",
            "16/16 [==============================] - 0s 6ms/step - loss: 1.6861 - accuracy: 0.6800 - val_loss: 1.6085 - val_accuracy: 0.7250\n",
            "Epoch 5/100\n",
            "16/16 [==============================] - 0s 6ms/step - loss: 1.4807 - accuracy: 0.7450 - val_loss: 1.4126 - val_accuracy: 0.7550\n",
            "Epoch 6/100\n",
            "16/16 [==============================] - 0s 6ms/step - loss: 1.2909 - accuracy: 0.7820 - val_loss: 1.2313 - val_accuracy: 0.7850\n",
            "Epoch 7/100\n",
            "16/16 [==============================] - 0s 7ms/step - loss: 1.1224 - accuracy: 0.8040 - val_loss: 1.0744 - val_accuracy: 0.8350\n",
            "Epoch 8/100\n",
            "16/16 [==============================] - 0s 6ms/step - loss: 0.9797 - accuracy: 0.8220 - val_loss: 0.9446 - val_accuracy: 0.8400\n",
            "Epoch 9/100\n",
            "16/16 [==============================] - 0s 7ms/step - loss: 0.8660 - accuracy: 0.8380 - val_loss: 0.8378 - val_accuracy: 0.8750\n",
            "Epoch 10/100\n",
            "16/16 [==============================] - 0s 6ms/step - loss: 0.7747 - accuracy: 0.8480 - val_loss: 0.7539 - val_accuracy: 0.8800\n",
            "Epoch 11/100\n",
            "16/16 [==============================] - 0s 6ms/step - loss: 0.7010 - accuracy: 0.8530 - val_loss: 0.6871 - val_accuracy: 0.8850\n",
            "Epoch 12/100\n",
            "16/16 [==============================] - 0s 6ms/step - loss: 0.6418 - accuracy: 0.8630 - val_loss: 0.6288 - val_accuracy: 0.8950\n",
            "Epoch 13/100\n",
            "16/16 [==============================] - 0s 6ms/step - loss: 0.5935 - accuracy: 0.8760 - val_loss: 0.5827 - val_accuracy: 0.8950\n",
            "Epoch 14/100\n",
            "16/16 [==============================] - 0s 8ms/step - loss: 0.5531 - accuracy: 0.8710 - val_loss: 0.5474 - val_accuracy: 0.8950\n",
            "Epoch 15/100\n",
            "16/16 [==============================] - 0s 5ms/step - loss: 0.5186 - accuracy: 0.8780 - val_loss: 0.5147 - val_accuracy: 0.9050\n",
            "Epoch 16/100\n",
            "16/16 [==============================] - 0s 6ms/step - loss: 0.4910 - accuracy: 0.8830 - val_loss: 0.4884 - val_accuracy: 0.9100\n",
            "Epoch 17/100\n",
            "16/16 [==============================] - 0s 5ms/step - loss: 0.4665 - accuracy: 0.8870 - val_loss: 0.4666 - val_accuracy: 0.9100\n",
            "Epoch 18/100\n",
            "16/16 [==============================] - 0s 7ms/step - loss: 0.4463 - accuracy: 0.8870 - val_loss: 0.4444 - val_accuracy: 0.9050\n",
            "Epoch 19/100\n",
            "16/16 [==============================] - 0s 6ms/step - loss: 0.4258 - accuracy: 0.8910 - val_loss: 0.4296 - val_accuracy: 0.9100\n",
            "Epoch 20/100\n",
            "16/16 [==============================] - 0s 6ms/step - loss: 0.4112 - accuracy: 0.9010 - val_loss: 0.4126 - val_accuracy: 0.9100\n",
            "Epoch 21/100\n",
            "16/16 [==============================] - 0s 5ms/step - loss: 0.3947 - accuracy: 0.9040 - val_loss: 0.4002 - val_accuracy: 0.9150\n",
            "Epoch 22/100\n",
            "16/16 [==============================] - 0s 8ms/step - loss: 0.3814 - accuracy: 0.9050 - val_loss: 0.3875 - val_accuracy: 0.9150\n",
            "Epoch 23/100\n",
            "16/16 [==============================] - 0s 6ms/step - loss: 0.3708 - accuracy: 0.9040 - val_loss: 0.3767 - val_accuracy: 0.9100\n",
            "Epoch 24/100\n",
            "16/16 [==============================] - 0s 5ms/step - loss: 0.3594 - accuracy: 0.9070 - val_loss: 0.3668 - val_accuracy: 0.9100\n",
            "Epoch 25/100\n",
            "16/16 [==============================] - 0s 5ms/step - loss: 0.3512 - accuracy: 0.9070 - val_loss: 0.3579 - val_accuracy: 0.9150\n",
            "Epoch 26/100\n",
            "16/16 [==============================] - 0s 6ms/step - loss: 0.3409 - accuracy: 0.9070 - val_loss: 0.3503 - val_accuracy: 0.9200\n",
            "Epoch 27/100\n",
            "16/16 [==============================] - 0s 6ms/step - loss: 0.3319 - accuracy: 0.9090 - val_loss: 0.3438 - val_accuracy: 0.9200\n",
            "Epoch 28/100\n",
            "16/16 [==============================] - 0s 5ms/step - loss: 0.3251 - accuracy: 0.9090 - val_loss: 0.3374 - val_accuracy: 0.9100\n",
            "Epoch 29/100\n",
            "16/16 [==============================] - 0s 5ms/step - loss: 0.3168 - accuracy: 0.9090 - val_loss: 0.3302 - val_accuracy: 0.9050\n",
            "Epoch 30/100\n",
            "16/16 [==============================] - 0s 6ms/step - loss: 0.3123 - accuracy: 0.9100 - val_loss: 0.3267 - val_accuracy: 0.9100\n",
            "Epoch 31/100\n",
            "16/16 [==============================] - 0s 5ms/step - loss: 0.3050 - accuracy: 0.9130 - val_loss: 0.3208 - val_accuracy: 0.9000\n",
            "Epoch 32/100\n",
            "16/16 [==============================] - 0s 6ms/step - loss: 0.2981 - accuracy: 0.9140 - val_loss: 0.3151 - val_accuracy: 0.9050\n",
            "Epoch 33/100\n",
            "16/16 [==============================] - 0s 5ms/step - loss: 0.2925 - accuracy: 0.9190 - val_loss: 0.3108 - val_accuracy: 0.9100\n",
            "Epoch 34/100\n",
            "16/16 [==============================] - 0s 6ms/step - loss: 0.2870 - accuracy: 0.9170 - val_loss: 0.3059 - val_accuracy: 0.9050\n",
            "Epoch 35/100\n",
            "16/16 [==============================] - 0s 5ms/step - loss: 0.2842 - accuracy: 0.9180 - val_loss: 0.3064 - val_accuracy: 0.9050\n",
            "Epoch 36/100\n",
            "16/16 [==============================] - 0s 6ms/step - loss: 0.2777 - accuracy: 0.9170 - val_loss: 0.2979 - val_accuracy: 0.9100\n",
            "Epoch 37/100\n",
            "16/16 [==============================] - 0s 6ms/step - loss: 0.2734 - accuracy: 0.9160 - val_loss: 0.2953 - val_accuracy: 0.9100\n",
            "Epoch 38/100\n",
            "16/16 [==============================] - 0s 6ms/step - loss: 0.2697 - accuracy: 0.9180 - val_loss: 0.2929 - val_accuracy: 0.9100\n",
            "Epoch 39/100\n",
            "16/16 [==============================] - 0s 6ms/step - loss: 0.2647 - accuracy: 0.9180 - val_loss: 0.2896 - val_accuracy: 0.9100\n",
            "Epoch 40/100\n",
            "16/16 [==============================] - 0s 6ms/step - loss: 0.2612 - accuracy: 0.9200 - val_loss: 0.2870 - val_accuracy: 0.9100\n",
            "Epoch 41/100\n",
            "16/16 [==============================] - 0s 5ms/step - loss: 0.2572 - accuracy: 0.9180 - val_loss: 0.2841 - val_accuracy: 0.9100\n",
            "Epoch 42/100\n",
            "16/16 [==============================] - 0s 6ms/step - loss: 0.2533 - accuracy: 0.9210 - val_loss: 0.2799 - val_accuracy: 0.9100\n",
            "Epoch 43/100\n",
            "16/16 [==============================] - 0s 8ms/step - loss: 0.2508 - accuracy: 0.9220 - val_loss: 0.2796 - val_accuracy: 0.9100\n",
            "Epoch 44/100\n",
            "16/16 [==============================] - 0s 32ms/step - loss: 0.2473 - accuracy: 0.9220 - val_loss: 0.2774 - val_accuracy: 0.9100\n",
            "Epoch 45/100\n",
            "16/16 [==============================] - 0s 12ms/step - loss: 0.2436 - accuracy: 0.9210 - val_loss: 0.2766 - val_accuracy: 0.9100\n",
            "Epoch 46/100\n",
            "16/16 [==============================] - 0s 6ms/step - loss: 0.2407 - accuracy: 0.9210 - val_loss: 0.2719 - val_accuracy: 0.9100\n",
            "Epoch 47/100\n",
            "16/16 [==============================] - 0s 5ms/step - loss: 0.2385 - accuracy: 0.9220 - val_loss: 0.2720 - val_accuracy: 0.9100\n",
            "Epoch 48/100\n",
            "16/16 [==============================] - 0s 5ms/step - loss: 0.2354 - accuracy: 0.9260 - val_loss: 0.2666 - val_accuracy: 0.9100\n",
            "Epoch 49/100\n",
            "16/16 [==============================] - 0s 5ms/step - loss: 0.2324 - accuracy: 0.9270 - val_loss: 0.2691 - val_accuracy: 0.9100\n",
            "Epoch 50/100\n",
            "16/16 [==============================] - 0s 5ms/step - loss: 0.2302 - accuracy: 0.9280 - val_loss: 0.2684 - val_accuracy: 0.9200\n",
            "Epoch 51/100\n",
            "16/16 [==============================] - 0s 7ms/step - loss: 0.2284 - accuracy: 0.9260 - val_loss: 0.2637 - val_accuracy: 0.9150\n",
            "Epoch 52/100\n",
            "16/16 [==============================] - 0s 5ms/step - loss: 0.2242 - accuracy: 0.9280 - val_loss: 0.2643 - val_accuracy: 0.9200\n",
            "Epoch 53/100\n",
            "16/16 [==============================] - 0s 5ms/step - loss: 0.2220 - accuracy: 0.9320 - val_loss: 0.2615 - val_accuracy: 0.9150\n",
            "Epoch 54/100\n",
            "16/16 [==============================] - 0s 6ms/step - loss: 0.2197 - accuracy: 0.9310 - val_loss: 0.2623 - val_accuracy: 0.9200\n",
            "Epoch 55/100\n",
            "16/16 [==============================] - 0s 5ms/step - loss: 0.2164 - accuracy: 0.9310 - val_loss: 0.2592 - val_accuracy: 0.9200\n",
            "Epoch 56/100\n",
            "16/16 [==============================] - 0s 9ms/step - loss: 0.2149 - accuracy: 0.9340 - val_loss: 0.2579 - val_accuracy: 0.9200\n",
            "Epoch 57/100\n",
            "16/16 [==============================] - 0s 8ms/step - loss: 0.2127 - accuracy: 0.9320 - val_loss: 0.2564 - val_accuracy: 0.9200\n",
            "Epoch 58/100\n",
            "16/16 [==============================] - 0s 9ms/step - loss: 0.2101 - accuracy: 0.9320 - val_loss: 0.2569 - val_accuracy: 0.9200\n",
            "Epoch 59/100\n",
            "16/16 [==============================] - 0s 9ms/step - loss: 0.2093 - accuracy: 0.9340 - val_loss: 0.2554 - val_accuracy: 0.9200\n",
            "Epoch 60/100\n",
            "16/16 [==============================] - 0s 8ms/step - loss: 0.2059 - accuracy: 0.9340 - val_loss: 0.2548 - val_accuracy: 0.9200\n",
            "Epoch 61/100\n",
            "16/16 [==============================] - 0s 7ms/step - loss: 0.2040 - accuracy: 0.9340 - val_loss: 0.2535 - val_accuracy: 0.9200\n",
            "Epoch 62/100\n",
            "16/16 [==============================] - 0s 8ms/step - loss: 0.2019 - accuracy: 0.9360 - val_loss: 0.2541 - val_accuracy: 0.9200\n",
            "Epoch 63/100\n",
            "16/16 [==============================] - 0s 7ms/step - loss: 0.1995 - accuracy: 0.9380 - val_loss: 0.2534 - val_accuracy: 0.9200\n",
            "Epoch 64/100\n",
            "16/16 [==============================] - 0s 8ms/step - loss: 0.1987 - accuracy: 0.9380 - val_loss: 0.2524 - val_accuracy: 0.9200\n",
            "Epoch 65/100\n",
            "16/16 [==============================] - 0s 9ms/step - loss: 0.1966 - accuracy: 0.9400 - val_loss: 0.2500 - val_accuracy: 0.9150\n",
            "Epoch 66/100\n",
            "16/16 [==============================] - 0s 8ms/step - loss: 0.1951 - accuracy: 0.9400 - val_loss: 0.2514 - val_accuracy: 0.9200\n",
            "Epoch 67/100\n",
            "16/16 [==============================] - 0s 8ms/step - loss: 0.1925 - accuracy: 0.9390 - val_loss: 0.2499 - val_accuracy: 0.9200\n",
            "Epoch 68/100\n",
            "16/16 [==============================] - 0s 9ms/step - loss: 0.1903 - accuracy: 0.9400 - val_loss: 0.2502 - val_accuracy: 0.9200\n",
            "Epoch 69/100\n",
            "16/16 [==============================] - 0s 8ms/step - loss: 0.1891 - accuracy: 0.9390 - val_loss: 0.2482 - val_accuracy: 0.9150\n",
            "Epoch 70/100\n",
            "16/16 [==============================] - 0s 8ms/step - loss: 0.1877 - accuracy: 0.9430 - val_loss: 0.2492 - val_accuracy: 0.9150\n",
            "Epoch 71/100\n",
            "16/16 [==============================] - 0s 8ms/step - loss: 0.1840 - accuracy: 0.9460 - val_loss: 0.2506 - val_accuracy: 0.9200\n",
            "Epoch 72/100\n",
            "16/16 [==============================] - 0s 9ms/step - loss: 0.1832 - accuracy: 0.9460 - val_loss: 0.2490 - val_accuracy: 0.9200\n",
            "Epoch 73/100\n",
            "16/16 [==============================] - 0s 10ms/step - loss: 0.1815 - accuracy: 0.9490 - val_loss: 0.2475 - val_accuracy: 0.9200\n",
            "Epoch 74/100\n",
            "16/16 [==============================] - 0s 9ms/step - loss: 0.1802 - accuracy: 0.9470 - val_loss: 0.2489 - val_accuracy: 0.9200\n",
            "Epoch 75/100\n",
            "16/16 [==============================] - 0s 8ms/step - loss: 0.1788 - accuracy: 0.9450 - val_loss: 0.2471 - val_accuracy: 0.9200\n",
            "Epoch 76/100\n",
            "16/16 [==============================] - 0s 8ms/step - loss: 0.1769 - accuracy: 0.9470 - val_loss: 0.2479 - val_accuracy: 0.9200\n",
            "Epoch 77/100\n",
            "16/16 [==============================] - 0s 5ms/step - loss: 0.1765 - accuracy: 0.9490 - val_loss: 0.2484 - val_accuracy: 0.9200\n",
            "Epoch 78/100\n",
            "16/16 [==============================] - 0s 5ms/step - loss: 0.1735 - accuracy: 0.9480 - val_loss: 0.2459 - val_accuracy: 0.9200\n",
            "Epoch 79/100\n",
            "16/16 [==============================] - 0s 6ms/step - loss: 0.1728 - accuracy: 0.9470 - val_loss: 0.2482 - val_accuracy: 0.9200\n",
            "Epoch 80/100\n",
            "16/16 [==============================] - 0s 7ms/step - loss: 0.1709 - accuracy: 0.9490 - val_loss: 0.2471 - val_accuracy: 0.9200\n",
            "Epoch 81/100\n",
            "16/16 [==============================] - 0s 5ms/step - loss: 0.1694 - accuracy: 0.9510 - val_loss: 0.2461 - val_accuracy: 0.9200\n",
            "Epoch 82/100\n",
            "16/16 [==============================] - 0s 5ms/step - loss: 0.1681 - accuracy: 0.9530 - val_loss: 0.2463 - val_accuracy: 0.9200\n",
            "Epoch 83/100\n",
            "16/16 [==============================] - 0s 5ms/step - loss: 0.1669 - accuracy: 0.9520 - val_loss: 0.2466 - val_accuracy: 0.9200\n",
            "Epoch 84/100\n",
            "16/16 [==============================] - 0s 6ms/step - loss: 0.1646 - accuracy: 0.9520 - val_loss: 0.2469 - val_accuracy: 0.9200\n",
            "Epoch 85/100\n",
            "16/16 [==============================] - 0s 6ms/step - loss: 0.1642 - accuracy: 0.9540 - val_loss: 0.2494 - val_accuracy: 0.9250\n",
            "Epoch 86/100\n",
            "16/16 [==============================] - 0s 7ms/step - loss: 0.1639 - accuracy: 0.9510 - val_loss: 0.2466 - val_accuracy: 0.9150\n",
            "Epoch 87/100\n",
            "16/16 [==============================] - 0s 5ms/step - loss: 0.1620 - accuracy: 0.9540 - val_loss: 0.2485 - val_accuracy: 0.9200\n",
            "Epoch 88/100\n",
            "16/16 [==============================] - 0s 7ms/step - loss: 0.1599 - accuracy: 0.9530 - val_loss: 0.2474 - val_accuracy: 0.9250\n",
            "Epoch 89/100\n",
            "16/16 [==============================] - 0s 6ms/step - loss: 0.1589 - accuracy: 0.9540 - val_loss: 0.2470 - val_accuracy: 0.9250\n",
            "Epoch 90/100\n",
            "16/16 [==============================] - 0s 7ms/step - loss: 0.1567 - accuracy: 0.9560 - val_loss: 0.2478 - val_accuracy: 0.9200\n",
            "Epoch 91/100\n",
            "16/16 [==============================] - 0s 6ms/step - loss: 0.1557 - accuracy: 0.9540 - val_loss: 0.2468 - val_accuracy: 0.9150\n",
            "Epoch 92/100\n",
            "16/16 [==============================] - 0s 6ms/step - loss: 0.1545 - accuracy: 0.9550 - val_loss: 0.2474 - val_accuracy: 0.9200\n",
            "Epoch 93/100\n",
            "16/16 [==============================] - 0s 5ms/step - loss: 0.1534 - accuracy: 0.9560 - val_loss: 0.2464 - val_accuracy: 0.9150\n",
            "Epoch 94/100\n",
            "16/16 [==============================] - 0s 5ms/step - loss: 0.1513 - accuracy: 0.9570 - val_loss: 0.2473 - val_accuracy: 0.9250\n",
            "Epoch 95/100\n",
            "16/16 [==============================] - 0s 5ms/step - loss: 0.1499 - accuracy: 0.9570 - val_loss: 0.2475 - val_accuracy: 0.9250\n",
            "Epoch 96/100\n",
            "16/16 [==============================] - 0s 6ms/step - loss: 0.1495 - accuracy: 0.9570 - val_loss: 0.2477 - val_accuracy: 0.9150\n",
            "Epoch 97/100\n",
            "16/16 [==============================] - 0s 5ms/step - loss: 0.1483 - accuracy: 0.9550 - val_loss: 0.2485 - val_accuracy: 0.9300\n",
            "Epoch 98/100\n",
            "16/16 [==============================] - 0s 6ms/step - loss: 0.1467 - accuracy: 0.9550 - val_loss: 0.2481 - val_accuracy: 0.9250\n",
            "Epoch 99/100\n",
            "16/16 [==============================] - 0s 6ms/step - loss: 0.1456 - accuracy: 0.9590 - val_loss: 0.2489 - val_accuracy: 0.9250\n",
            "Epoch 100/100\n",
            "16/16 [==============================] - 0s 6ms/step - loss: 0.1453 - accuracy: 0.9600 - val_loss: 0.2480 - val_accuracy: 0.9250\n"
          ]
        }
      ],
      "source": [
        "MLP_model = model.fit(x_train, y_train,\n",
        "          epochs=100,\n",
        "          batch_size=64, validation_data=(x_test, y_test))"
      ]
    },
    {
      "cell_type": "code",
      "execution_count": 12,
      "metadata": {
        "colab": {
          "base_uri": "https://localhost:8080/",
          "height": 447
        },
        "id": "SveCNiLkisTF",
        "outputId": "1a7de8cd-4afc-401e-a677-083353c9e496"
      },
      "outputs": [
        {
          "output_type": "execute_result",
          "data": {
            "text/plain": [
              "[<matplotlib.lines.Line2D at 0x78f257f298d0>]"
            ]
          },
          "metadata": {},
          "execution_count": 12
        },
        {
          "output_type": "display_data",
          "data": {
            "text/plain": [
              "<Figure size 640x480 with 1 Axes>"
            ],
            "image/png": "[encoded data removed]"
          },
          "metadata": {}
        }
      ],
      "source": [
        "# plot Loss\n",
        "plt.plot(MLP_model.history[\"loss\"])\n",
        "plt.plot(MLP_model.history[\"val_loss\"])"
      ]
    },
    {
      "cell_type": "code",
      "execution_count": 13,
      "metadata": {
        "colab": {
          "base_uri": "https://localhost:8080/",
          "height": 451
        },
        "id": "Cx3VubunisVh",
        "outputId": "f5c89e66-90f6-4d07-94a9-36dd0b89f4e2"
      },
      "outputs": [
        {
          "output_type": "execute_result",
          "data": {
            "text/plain": [
              "[<matplotlib.lines.Line2D at 0x78f257e07880>]"
            ]
          },
          "metadata": {},
          "execution_count": 13
        },
        {
          "output_type": "display_data",
          "data": {
            "text/plain": [
              "<Figure size 640x480 with 1 Axes>"
            ],
            "image/png": "[encoded data removed]"
          },
          "metadata": {}
        }
      ],
      "source": [
        "# plot accuracy\n",
        "plt.plot(MLP_model.history[\"accuracy\"])\n",
        "plt.plot(MLP_model.history[\"val_accuracy\"])"
      ]
    }
  ],
  "metadata": {
    "colab": {
      "provenance": []
    },
    "kernelspec": {
      "display_name": "Python 3",
      "name": "python3"
    },
    "language_info": {
      "name": "python"
    }
  },
  "nbformat": 4,
  "nbformat_minor": 0
}